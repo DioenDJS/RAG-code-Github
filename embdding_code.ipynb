{
 "cells": [
  {
   "cell_type": "code",
   "execution_count": 7,
   "metadata": {},
   "outputs": [
    {
     "name": "stdout",
     "output_type": "stream",
     "text": [
      "Requirement already satisfied: langchain in c:\\users\\dioend\\appdata\\local\\programs\\python\\python311\\lib\\site-packages (0.3.6)\n",
      "Requirement already satisfied: PyYAML>=5.3 in c:\\users\\dioend\\appdata\\local\\programs\\python\\python311\\lib\\site-packages (from langchain) (6.0.1)\n",
      "Requirement already satisfied: SQLAlchemy<3,>=1.4 in c:\\users\\dioend\\appdata\\local\\programs\\python\\python311\\lib\\site-packages (from langchain) (2.0.32)\n",
      "Requirement already satisfied: aiohttp<4.0.0,>=3.8.3 in c:\\users\\dioend\\appdata\\local\\programs\\python\\python311\\lib\\site-packages (from langchain) (3.10.5)\n",
      "Requirement already satisfied: langchain-core<0.4.0,>=0.3.14 in c:\\users\\dioend\\appdata\\local\\programs\\python\\python311\\lib\\site-packages (from langchain) (0.3.14)\n",
      "Requirement already satisfied: langchain-text-splitters<0.4.0,>=0.3.0 in c:\\users\\dioend\\appdata\\local\\programs\\python\\python311\\lib\\site-packages (from langchain) (0.3.1)\n",
      "Requirement already satisfied: langsmith<0.2.0,>=0.1.17 in c:\\users\\dioend\\appdata\\local\\programs\\python\\python311\\lib\\site-packages (from langchain) (0.1.137)\n",
      "Requirement already satisfied: numpy<2,>=1 in c:\\users\\dioend\\appdata\\local\\programs\\python\\python311\\lib\\site-packages (from langchain) (1.26.3)\n",
      "Requirement already satisfied: pydantic<3.0.0,>=2.7.4 in c:\\users\\dioend\\appdata\\local\\programs\\python\\python311\\lib\\site-packages (from langchain) (2.8.2)\n",
      "Requirement already satisfied: requests<3,>=2 in c:\\users\\dioend\\appdata\\local\\programs\\python\\python311\\lib\\site-packages (from langchain) (2.32.3)\n",
      "Requirement already satisfied: tenacity!=8.4.0,<10,>=8.1.0 in c:\\users\\dioend\\appdata\\local\\programs\\python\\python311\\lib\\site-packages (from langchain) (9.0.0)\n",
      "Requirement already satisfied: aiohappyeyeballs>=2.3.0 in c:\\users\\dioend\\appdata\\local\\programs\\python\\python311\\lib\\site-packages (from aiohttp<4.0.0,>=3.8.3->langchain) (2.4.0)\n",
      "Requirement already satisfied: aiosignal>=1.1.2 in c:\\users\\dioend\\appdata\\local\\programs\\python\\python311\\lib\\site-packages (from aiohttp<4.0.0,>=3.8.3->langchain) (1.3.1)\n",
      "Requirement already satisfied: attrs>=17.3.0 in c:\\users\\dioend\\appdata\\local\\programs\\python\\python311\\lib\\site-packages (from aiohttp<4.0.0,>=3.8.3->langchain) (24.2.0)\n",
      "Requirement already satisfied: frozenlist>=1.1.1 in c:\\users\\dioend\\appdata\\local\\programs\\python\\python311\\lib\\site-packages (from aiohttp<4.0.0,>=3.8.3->langchain) (1.4.1)\n",
      "Requirement already satisfied: multidict<7.0,>=4.5 in c:\\users\\dioend\\appdata\\local\\programs\\python\\python311\\lib\\site-packages (from aiohttp<4.0.0,>=3.8.3->langchain) (6.0.5)\n",
      "Requirement already satisfied: yarl<2.0,>=1.0 in c:\\users\\dioend\\appdata\\local\\programs\\python\\python311\\lib\\site-packages (from aiohttp<4.0.0,>=3.8.3->langchain) (1.9.4)\n",
      "Requirement already satisfied: jsonpatch<2.0,>=1.33 in c:\\users\\dioend\\appdata\\local\\programs\\python\\python311\\lib\\site-packages (from langchain-core<0.4.0,>=0.3.14->langchain) (1.33)\n",
      "Requirement already satisfied: packaging<25,>=23.2 in c:\\users\\dioend\\appdata\\local\\programs\\python\\python311\\lib\\site-packages (from langchain-core<0.4.0,>=0.3.14->langchain) (23.2)\n",
      "Requirement already satisfied: typing-extensions>=4.7 in c:\\users\\dioend\\appdata\\roaming\\python\\python311\\site-packages (from langchain-core<0.4.0,>=0.3.14->langchain) (4.12.2)\n",
      "Requirement already satisfied: httpx<1,>=0.23.0 in c:\\users\\dioend\\appdata\\local\\programs\\python\\python311\\lib\\site-packages (from langsmith<0.2.0,>=0.1.17->langchain) (0.27.2)\n",
      "Requirement already satisfied: orjson<4.0.0,>=3.9.14 in c:\\users\\dioend\\appdata\\local\\programs\\python\\python311\\lib\\site-packages (from langsmith<0.2.0,>=0.1.17->langchain) (3.10.7)\n",
      "Requirement already satisfied: requests-toolbelt<2.0.0,>=1.0.0 in c:\\users\\dioend\\appdata\\local\\programs\\python\\python311\\lib\\site-packages (from langsmith<0.2.0,>=0.1.17->langchain) (1.0.0)\n",
      "Requirement already satisfied: annotated-types>=0.4.0 in c:\\users\\dioend\\appdata\\local\\programs\\python\\python311\\lib\\site-packages (from pydantic<3.0.0,>=2.7.4->langchain) (0.7.0)\n",
      "Requirement already satisfied: pydantic-core==2.20.1 in c:\\users\\dioend\\appdata\\local\\programs\\python\\python311\\lib\\site-packages (from pydantic<3.0.0,>=2.7.4->langchain) (2.20.1)\n",
      "Requirement already satisfied: charset-normalizer<4,>=2 in c:\\users\\dioend\\appdata\\local\\programs\\python\\python311\\lib\\site-packages (from requests<3,>=2->langchain) (3.3.2)\n",
      "Requirement already satisfied: idna<4,>=2.5 in c:\\users\\dioend\\appdata\\local\\programs\\python\\python311\\lib\\site-packages (from requests<3,>=2->langchain) (3.6)\n",
      "Requirement already satisfied: urllib3<3,>=1.21.1 in c:\\users\\dioend\\appdata\\local\\programs\\python\\python311\\lib\\site-packages (from requests<3,>=2->langchain) (2.0.7)\n",
      "Requirement already satisfied: certifi>=2017.4.17 in c:\\users\\dioend\\appdata\\local\\programs\\python\\python311\\lib\\site-packages (from requests<3,>=2->langchain) (2023.11.17)\n",
      "Requirement already satisfied: greenlet!=0.4.17 in c:\\users\\dioend\\appdata\\local\\programs\\python\\python311\\lib\\site-packages (from SQLAlchemy<3,>=1.4->langchain) (2.0.1)\n",
      "Requirement already satisfied: anyio in c:\\users\\dioend\\appdata\\local\\programs\\python\\python311\\lib\\site-packages (from httpx<1,>=0.23.0->langsmith<0.2.0,>=0.1.17->langchain) (4.2.0)\n",
      "Requirement already satisfied: httpcore==1.* in c:\\users\\dioend\\appdata\\local\\programs\\python\\python311\\lib\\site-packages (from httpx<1,>=0.23.0->langsmith<0.2.0,>=0.1.17->langchain) (1.0.6)\n",
      "Requirement already satisfied: sniffio in c:\\users\\dioend\\appdata\\local\\programs\\python\\python311\\lib\\site-packages (from httpx<1,>=0.23.0->langsmith<0.2.0,>=0.1.17->langchain) (1.3.0)\n",
      "Requirement already satisfied: h11<0.15,>=0.13 in c:\\users\\dioend\\appdata\\local\\programs\\python\\python311\\lib\\site-packages (from httpcore==1.*->httpx<1,>=0.23.0->langsmith<0.2.0,>=0.1.17->langchain) (0.14.0)\n",
      "Requirement already satisfied: jsonpointer>=1.9 in c:\\users\\dioend\\appdata\\local\\programs\\python\\python311\\lib\\site-packages (from jsonpatch<2.0,>=1.33->langchain-core<0.4.0,>=0.3.14->langchain) (3.0.0)\n",
      "Requirement already satisfied: langchain-community in c:\\users\\dioend\\appdata\\local\\programs\\python\\python311\\lib\\site-packages (0.3.4)\n",
      "Requirement already satisfied: PyYAML>=5.3 in c:\\users\\dioend\\appdata\\local\\programs\\python\\python311\\lib\\site-packages (from langchain-community) (6.0.1)\n",
      "Requirement already satisfied: SQLAlchemy<3,>=1.4 in c:\\users\\dioend\\appdata\\local\\programs\\python\\python311\\lib\\site-packages (from langchain-community) (2.0.32)\n",
      "Requirement already satisfied: aiohttp<4.0.0,>=3.8.3 in c:\\users\\dioend\\appdata\\local\\programs\\python\\python311\\lib\\site-packages (from langchain-community) (3.10.5)\n",
      "Requirement already satisfied: dataclasses-json<0.7,>=0.5.7 in c:\\users\\dioend\\appdata\\local\\programs\\python\\python311\\lib\\site-packages (from langchain-community) (0.6.7)\n",
      "Requirement already satisfied: httpx-sse<0.5.0,>=0.4.0 in c:\\users\\dioend\\appdata\\local\\programs\\python\\python311\\lib\\site-packages (from langchain-community) (0.4.0)\n",
      "Requirement already satisfied: langchain<0.4.0,>=0.3.6 in c:\\users\\dioend\\appdata\\local\\programs\\python\\python311\\lib\\site-packages (from langchain-community) (0.3.6)\n",
      "Requirement already satisfied: langchain-core<0.4.0,>=0.3.14 in c:\\users\\dioend\\appdata\\local\\programs\\python\\python311\\lib\\site-packages (from langchain-community) (0.3.14)\n",
      "Requirement already satisfied: langsmith<0.2.0,>=0.1.125 in c:\\users\\dioend\\appdata\\local\\programs\\python\\python311\\lib\\site-packages (from langchain-community) (0.1.137)\n",
      "Requirement already satisfied: numpy<2,>=1 in c:\\users\\dioend\\appdata\\local\\programs\\python\\python311\\lib\\site-packages (from langchain-community) (1.26.3)\n",
      "Requirement already satisfied: pydantic-settings<3.0.0,>=2.4.0 in c:\\users\\dioend\\appdata\\local\\programs\\python\\python311\\lib\\site-packages (from langchain-community) (2.6.0)\n",
      "Requirement already satisfied: requests<3,>=2 in c:\\users\\dioend\\appdata\\local\\programs\\python\\python311\\lib\\site-packages (from langchain-community) (2.32.3)\n",
      "Requirement already satisfied: tenacity!=8.4.0,<10,>=8.1.0 in c:\\users\\dioend\\appdata\\local\\programs\\python\\python311\\lib\\site-packages (from langchain-community) (9.0.0)\n",
      "Requirement already satisfied: aiohappyeyeballs>=2.3.0 in c:\\users\\dioend\\appdata\\local\\programs\\python\\python311\\lib\\site-packages (from aiohttp<4.0.0,>=3.8.3->langchain-community) (2.4.0)\n",
      "Requirement already satisfied: aiosignal>=1.1.2 in c:\\users\\dioend\\appdata\\local\\programs\\python\\python311\\lib\\site-packages (from aiohttp<4.0.0,>=3.8.3->langchain-community) (1.3.1)\n",
      "Requirement already satisfied: attrs>=17.3.0 in c:\\users\\dioend\\appdata\\local\\programs\\python\\python311\\lib\\site-packages (from aiohttp<4.0.0,>=3.8.3->langchain-community) (24.2.0)\n",
      "Requirement already satisfied: frozenlist>=1.1.1 in c:\\users\\dioend\\appdata\\local\\programs\\python\\python311\\lib\\site-packages (from aiohttp<4.0.0,>=3.8.3->langchain-community) (1.4.1)\n",
      "Requirement already satisfied: multidict<7.0,>=4.5 in c:\\users\\dioend\\appdata\\local\\programs\\python\\python311\\lib\\site-packages (from aiohttp<4.0.0,>=3.8.3->langchain-community) (6.0.5)\n",
      "Requirement already satisfied: yarl<2.0,>=1.0 in c:\\users\\dioend\\appdata\\local\\programs\\python\\python311\\lib\\site-packages (from aiohttp<4.0.0,>=3.8.3->langchain-community) (1.9.4)\n",
      "Requirement already satisfied: marshmallow<4.0.0,>=3.18.0 in c:\\users\\dioend\\appdata\\local\\programs\\python\\python311\\lib\\site-packages (from dataclasses-json<0.7,>=0.5.7->langchain-community) (3.22.0)\n",
      "Requirement already satisfied: typing-inspect<1,>=0.4.0 in c:\\users\\dioend\\appdata\\local\\programs\\python\\python311\\lib\\site-packages (from dataclasses-json<0.7,>=0.5.7->langchain-community) (0.9.0)\n",
      "Requirement already satisfied: langchain-text-splitters<0.4.0,>=0.3.0 in c:\\users\\dioend\\appdata\\local\\programs\\python\\python311\\lib\\site-packages (from langchain<0.4.0,>=0.3.6->langchain-community) (0.3.1)\n",
      "Requirement already satisfied: pydantic<3.0.0,>=2.7.4 in c:\\users\\dioend\\appdata\\local\\programs\\python\\python311\\lib\\site-packages (from langchain<0.4.0,>=0.3.6->langchain-community) (2.8.2)\n",
      "Requirement already satisfied: jsonpatch<2.0,>=1.33 in c:\\users\\dioend\\appdata\\local\\programs\\python\\python311\\lib\\site-packages (from langchain-core<0.4.0,>=0.3.14->langchain-community) (1.33)\n",
      "Requirement already satisfied: packaging<25,>=23.2 in c:\\users\\dioend\\appdata\\local\\programs\\python\\python311\\lib\\site-packages (from langchain-core<0.4.0,>=0.3.14->langchain-community) (23.2)\n",
      "Requirement already satisfied: typing-extensions>=4.7 in c:\\users\\dioend\\appdata\\roaming\\python\\python311\\site-packages (from langchain-core<0.4.0,>=0.3.14->langchain-community) (4.12.2)\n",
      "Requirement already satisfied: httpx<1,>=0.23.0 in c:\\users\\dioend\\appdata\\local\\programs\\python\\python311\\lib\\site-packages (from langsmith<0.2.0,>=0.1.125->langchain-community) (0.27.2)\n",
      "Requirement already satisfied: orjson<4.0.0,>=3.9.14 in c:\\users\\dioend\\appdata\\local\\programs\\python\\python311\\lib\\site-packages (from langsmith<0.2.0,>=0.1.125->langchain-community) (3.10.7)\n",
      "Requirement already satisfied: requests-toolbelt<2.0.0,>=1.0.0 in c:\\users\\dioend\\appdata\\local\\programs\\python\\python311\\lib\\site-packages (from langsmith<0.2.0,>=0.1.125->langchain-community) (1.0.0)\n",
      "Requirement already satisfied: python-dotenv>=0.21.0 in c:\\users\\dioend\\appdata\\local\\programs\\python\\python311\\lib\\site-packages (from pydantic-settings<3.0.0,>=2.4.0->langchain-community) (1.0.0)\n",
      "Requirement already satisfied: charset-normalizer<4,>=2 in c:\\users\\dioend\\appdata\\local\\programs\\python\\python311\\lib\\site-packages (from requests<3,>=2->langchain-community) (3.3.2)\n",
      "Requirement already satisfied: idna<4,>=2.5 in c:\\users\\dioend\\appdata\\local\\programs\\python\\python311\\lib\\site-packages (from requests<3,>=2->langchain-community) (3.6)\n",
      "Requirement already satisfied: urllib3<3,>=1.21.1 in c:\\users\\dioend\\appdata\\local\\programs\\python\\python311\\lib\\site-packages (from requests<3,>=2->langchain-community) (2.0.7)\n",
      "Requirement already satisfied: certifi>=2017.4.17 in c:\\users\\dioend\\appdata\\local\\programs\\python\\python311\\lib\\site-packages (from requests<3,>=2->langchain-community) (2023.11.17)\n",
      "Requirement already satisfied: greenlet!=0.4.17 in c:\\users\\dioend\\appdata\\local\\programs\\python\\python311\\lib\\site-packages (from SQLAlchemy<3,>=1.4->langchain-community) (2.0.1)\n",
      "Requirement already satisfied: anyio in c:\\users\\dioend\\appdata\\local\\programs\\python\\python311\\lib\\site-packages (from httpx<1,>=0.23.0->langsmith<0.2.0,>=0.1.125->langchain-community) (4.2.0)\n",
      "Requirement already satisfied: httpcore==1.* in c:\\users\\dioend\\appdata\\local\\programs\\python\\python311\\lib\\site-packages (from httpx<1,>=0.23.0->langsmith<0.2.0,>=0.1.125->langchain-community) (1.0.6)\n",
      "Requirement already satisfied: sniffio in c:\\users\\dioend\\appdata\\local\\programs\\python\\python311\\lib\\site-packages (from httpx<1,>=0.23.0->langsmith<0.2.0,>=0.1.125->langchain-community) (1.3.0)\n",
      "Requirement already satisfied: h11<0.15,>=0.13 in c:\\users\\dioend\\appdata\\local\\programs\\python\\python311\\lib\\site-packages (from httpcore==1.*->httpx<1,>=0.23.0->langsmith<0.2.0,>=0.1.125->langchain-community) (0.14.0)\n",
      "Requirement already satisfied: jsonpointer>=1.9 in c:\\users\\dioend\\appdata\\local\\programs\\python\\python311\\lib\\site-packages (from jsonpatch<2.0,>=1.33->langchain-core<0.4.0,>=0.3.14->langchain-community) (3.0.0)\n",
      "Requirement already satisfied: annotated-types>=0.4.0 in c:\\users\\dioend\\appdata\\local\\programs\\python\\python311\\lib\\site-packages (from pydantic<3.0.0,>=2.7.4->langchain<0.4.0,>=0.3.6->langchain-community) (0.7.0)\n",
      "Requirement already satisfied: pydantic-core==2.20.1 in c:\\users\\dioend\\appdata\\local\\programs\\python\\python311\\lib\\site-packages (from pydantic<3.0.0,>=2.7.4->langchain<0.4.0,>=0.3.6->langchain-community) (2.20.1)\n",
      "Requirement already satisfied: mypy-extensions>=0.3.0 in c:\\users\\dioend\\appdata\\local\\programs\\python\\python311\\lib\\site-packages (from typing-inspect<1,>=0.4.0->dataclasses-json<0.7,>=0.5.7->langchain-community) (1.0.0)\n",
      "Requirement already satisfied: langchain-chroma in c:\\users\\dioend\\appdata\\local\\programs\\python\\python311\\lib\\site-packages (0.1.4)\n",
      "Requirement already satisfied: chromadb!=0.5.4,!=0.5.5,<0.6.0,>=0.4.0 in c:\\users\\dioend\\appdata\\local\\programs\\python\\python311\\lib\\site-packages (from langchain-chroma) (0.4.24)\n",
      "Requirement already satisfied: fastapi<1,>=0.95.2 in c:\\users\\dioend\\appdata\\local\\programs\\python\\python311\\lib\\site-packages (from langchain-chroma) (0.112.1)\n",
      "Requirement already satisfied: langchain-core<0.4,>=0.1.40 in c:\\users\\dioend\\appdata\\local\\programs\\python\\python311\\lib\\site-packages (from langchain-chroma) (0.3.14)\n",
      "Requirement already satisfied: numpy<2,>=1 in c:\\users\\dioend\\appdata\\local\\programs\\python\\python311\\lib\\site-packages (from langchain-chroma) (1.26.3)\n",
      "Requirement already satisfied: build>=1.0.3 in c:\\users\\dioend\\appdata\\local\\programs\\python\\python311\\lib\\site-packages (from chromadb!=0.5.4,!=0.5.5,<0.6.0,>=0.4.0->langchain-chroma) (1.2.1)\n",
      "Requirement already satisfied: requests>=2.28 in c:\\users\\dioend\\appdata\\local\\programs\\python\\python311\\lib\\site-packages (from chromadb!=0.5.4,!=0.5.5,<0.6.0,>=0.4.0->langchain-chroma) (2.32.3)\n",
      "Requirement already satisfied: pydantic>=1.9 in c:\\users\\dioend\\appdata\\local\\programs\\python\\python311\\lib\\site-packages (from chromadb!=0.5.4,!=0.5.5,<0.6.0,>=0.4.0->langchain-chroma) (2.8.2)\n",
      "Requirement already satisfied: chroma-hnswlib==0.7.3 in c:\\users\\dioend\\appdata\\local\\programs\\python\\python311\\lib\\site-packages (from chromadb!=0.5.4,!=0.5.5,<0.6.0,>=0.4.0->langchain-chroma) (0.7.3)\n",
      "Requirement already satisfied: uvicorn>=0.18.3 in c:\\users\\dioend\\appdata\\local\\programs\\python\\python311\\lib\\site-packages (from uvicorn[standard]>=0.18.3->chromadb!=0.5.4,!=0.5.5,<0.6.0,>=0.4.0->langchain-chroma) (0.30.6)\n",
      "Requirement already satisfied: posthog>=2.4.0 in c:\\users\\dioend\\appdata\\local\\programs\\python\\python311\\lib\\site-packages (from chromadb!=0.5.4,!=0.5.5,<0.6.0,>=0.4.0->langchain-chroma) (3.5.0)\n",
      "Requirement already satisfied: typing-extensions>=4.5.0 in c:\\users\\dioend\\appdata\\roaming\\python\\python311\\site-packages (from chromadb!=0.5.4,!=0.5.5,<0.6.0,>=0.4.0->langchain-chroma) (4.12.2)\n",
      "Requirement already satisfied: pulsar-client>=3.1.0 in c:\\users\\dioend\\appdata\\local\\programs\\python\\python311\\lib\\site-packages (from chromadb!=0.5.4,!=0.5.5,<0.6.0,>=0.4.0->langchain-chroma) (3.5.0)\n",
      "Requirement already satisfied: onnxruntime>=1.14.1 in c:\\users\\dioend\\appdata\\local\\programs\\python\\python311\\lib\\site-packages (from chromadb!=0.5.4,!=0.5.5,<0.6.0,>=0.4.0->langchain-chroma) (1.19.0)\n",
      "Requirement already satisfied: opentelemetry-api>=1.2.0 in c:\\users\\dioend\\appdata\\local\\programs\\python\\python311\\lib\\site-packages (from chromadb!=0.5.4,!=0.5.5,<0.6.0,>=0.4.0->langchain-chroma) (1.26.0)\n",
      "Requirement already satisfied: opentelemetry-exporter-otlp-proto-grpc>=1.2.0 in c:\\users\\dioend\\appdata\\local\\programs\\python\\python311\\lib\\site-packages (from chromadb!=0.5.4,!=0.5.5,<0.6.0,>=0.4.0->langchain-chroma) (1.26.0)\n",
      "Requirement already satisfied: opentelemetry-instrumentation-fastapi>=0.41b0 in c:\\users\\dioend\\appdata\\local\\programs\\python\\python311\\lib\\site-packages (from chromadb!=0.5.4,!=0.5.5,<0.6.0,>=0.4.0->langchain-chroma) (0.47b0)\n",
      "Requirement already satisfied: opentelemetry-sdk>=1.2.0 in c:\\users\\dioend\\appdata\\local\\programs\\python\\python311\\lib\\site-packages (from chromadb!=0.5.4,!=0.5.5,<0.6.0,>=0.4.0->langchain-chroma) (1.26.0)\n",
      "Requirement already satisfied: tokenizers>=0.13.2 in c:\\users\\dioend\\appdata\\local\\programs\\python\\python311\\lib\\site-packages (from chromadb!=0.5.4,!=0.5.5,<0.6.0,>=0.4.0->langchain-chroma) (0.20.0)\n",
      "Requirement already satisfied: pypika>=0.48.9 in c:\\users\\dioend\\appdata\\local\\programs\\python\\python311\\lib\\site-packages (from chromadb!=0.5.4,!=0.5.5,<0.6.0,>=0.4.0->langchain-chroma) (0.48.9)\n",
      "Requirement already satisfied: tqdm>=4.65.0 in c:\\users\\dioend\\appdata\\local\\programs\\python\\python311\\lib\\site-packages (from chromadb!=0.5.4,!=0.5.5,<0.6.0,>=0.4.0->langchain-chroma) (4.66.5)\n",
      "Requirement already satisfied: overrides>=7.3.1 in c:\\users\\dioend\\appdata\\local\\programs\\python\\python311\\lib\\site-packages (from chromadb!=0.5.4,!=0.5.5,<0.6.0,>=0.4.0->langchain-chroma) (7.7.0)\n",
      "Requirement already satisfied: importlib-resources in c:\\users\\dioend\\appdata\\local\\programs\\python\\python311\\lib\\site-packages (from chromadb!=0.5.4,!=0.5.5,<0.6.0,>=0.4.0->langchain-chroma) (6.4.3)\n",
      "Requirement already satisfied: grpcio>=1.58.0 in c:\\users\\dioend\\appdata\\local\\programs\\python\\python311\\lib\\site-packages (from chromadb!=0.5.4,!=0.5.5,<0.6.0,>=0.4.0->langchain-chroma) (1.64.3)\n",
      "Requirement already satisfied: bcrypt>=4.0.1 in c:\\users\\dioend\\appdata\\local\\programs\\python\\python311\\lib\\site-packages (from chromadb!=0.5.4,!=0.5.5,<0.6.0,>=0.4.0->langchain-chroma) (4.2.0)\n",
      "Requirement already satisfied: typer>=0.9.0 in c:\\users\\dioend\\appdata\\local\\programs\\python\\python311\\lib\\site-packages (from chromadb!=0.5.4,!=0.5.5,<0.6.0,>=0.4.0->langchain-chroma) (0.9.4)\n",
      "Requirement already satisfied: kubernetes>=28.1.0 in c:\\users\\dioend\\appdata\\local\\programs\\python\\python311\\lib\\site-packages (from chromadb!=0.5.4,!=0.5.5,<0.6.0,>=0.4.0->langchain-chroma) (30.1.0)\n",
      "Requirement already satisfied: tenacity>=8.2.3 in c:\\users\\dioend\\appdata\\local\\programs\\python\\python311\\lib\\site-packages (from chromadb!=0.5.4,!=0.5.5,<0.6.0,>=0.4.0->langchain-chroma) (9.0.0)\n",
      "Requirement already satisfied: PyYAML>=6.0.0 in c:\\users\\dioend\\appdata\\local\\programs\\python\\python311\\lib\\site-packages (from chromadb!=0.5.4,!=0.5.5,<0.6.0,>=0.4.0->langchain-chroma) (6.0.1)\n",
      "Requirement already satisfied: mmh3>=4.0.1 in c:\\users\\dioend\\appdata\\local\\programs\\python\\python311\\lib\\site-packages (from chromadb!=0.5.4,!=0.5.5,<0.6.0,>=0.4.0->langchain-chroma) (4.1.0)\n",
      "Requirement already satisfied: orjson>=3.9.12 in c:\\users\\dioend\\appdata\\local\\programs\\python\\python311\\lib\\site-packages (from chromadb!=0.5.4,!=0.5.5,<0.6.0,>=0.4.0->langchain-chroma) (3.10.7)\n",
      "Requirement already satisfied: starlette<0.39.0,>=0.37.2 in c:\\users\\dioend\\appdata\\local\\programs\\python\\python311\\lib\\site-packages (from fastapi<1,>=0.95.2->langchain-chroma) (0.38.2)\n",
      "Requirement already satisfied: jsonpatch<2.0,>=1.33 in c:\\users\\dioend\\appdata\\local\\programs\\python\\python311\\lib\\site-packages (from langchain-core<0.4,>=0.1.40->langchain-chroma) (1.33)\n",
      "Requirement already satisfied: langsmith<0.2.0,>=0.1.125 in c:\\users\\dioend\\appdata\\local\\programs\\python\\python311\\lib\\site-packages (from langchain-core<0.4,>=0.1.40->langchain-chroma) (0.1.137)\n",
      "Requirement already satisfied: packaging<25,>=23.2 in c:\\users\\dioend\\appdata\\local\\programs\\python\\python311\\lib\\site-packages (from langchain-core<0.4,>=0.1.40->langchain-chroma) (23.2)\n",
      "Requirement already satisfied: pyproject_hooks in c:\\users\\dioend\\appdata\\local\\programs\\python\\python311\\lib\\site-packages (from build>=1.0.3->chromadb!=0.5.4,!=0.5.5,<0.6.0,>=0.4.0->langchain-chroma) (1.1.0)\n",
      "Requirement already satisfied: colorama in c:\\users\\dioend\\appdata\\roaming\\python\\python311\\site-packages (from build>=1.0.3->chromadb!=0.5.4,!=0.5.5,<0.6.0,>=0.4.0->langchain-chroma) (0.4.6)\n",
      "Requirement already satisfied: jsonpointer>=1.9 in c:\\users\\dioend\\appdata\\local\\programs\\python\\python311\\lib\\site-packages (from jsonpatch<2.0,>=1.33->langchain-core<0.4,>=0.1.40->langchain-chroma) (3.0.0)\n",
      "Requirement already satisfied: certifi>=14.05.14 in c:\\users\\dioend\\appdata\\local\\programs\\python\\python311\\lib\\site-packages (from kubernetes>=28.1.0->chromadb!=0.5.4,!=0.5.5,<0.6.0,>=0.4.0->langchain-chroma) (2023.11.17)\n",
      "Requirement already satisfied: six>=1.9.0 in c:\\users\\dioend\\appdata\\roaming\\python\\python311\\site-packages (from kubernetes>=28.1.0->chromadb!=0.5.4,!=0.5.5,<0.6.0,>=0.4.0->langchain-chroma) (1.16.0)\n",
      "Requirement already satisfied: python-dateutil>=2.5.3 in c:\\users\\dioend\\appdata\\roaming\\python\\python311\\site-packages (from kubernetes>=28.1.0->chromadb!=0.5.4,!=0.5.5,<0.6.0,>=0.4.0->langchain-chroma) (2.9.0.post0)\n",
      "Requirement already satisfied: google-auth>=1.0.1 in c:\\users\\dioend\\appdata\\local\\programs\\python\\python311\\lib\\site-packages (from kubernetes>=28.1.0->chromadb!=0.5.4,!=0.5.5,<0.6.0,>=0.4.0->langchain-chroma) (2.35.0)\n",
      "Requirement already satisfied: websocket-client!=0.40.0,!=0.41.*,!=0.42.*,>=0.32.0 in c:\\users\\dioend\\appdata\\local\\programs\\python\\python311\\lib\\site-packages (from kubernetes>=28.1.0->chromadb!=0.5.4,!=0.5.5,<0.6.0,>=0.4.0->langchain-chroma) (1.8.0)\n",
      "Requirement already satisfied: requests-oauthlib in c:\\users\\dioend\\appdata\\local\\programs\\python\\python311\\lib\\site-packages (from kubernetes>=28.1.0->chromadb!=0.5.4,!=0.5.5,<0.6.0,>=0.4.0->langchain-chroma) (2.0.0)\n",
      "Requirement already satisfied: oauthlib>=3.2.2 in c:\\users\\dioend\\appdata\\local\\programs\\python\\python311\\lib\\site-packages (from kubernetes>=28.1.0->chromadb!=0.5.4,!=0.5.5,<0.6.0,>=0.4.0->langchain-chroma) (3.2.2)\n",
      "Requirement already satisfied: urllib3>=1.24.2 in c:\\users\\dioend\\appdata\\local\\programs\\python\\python311\\lib\\site-packages (from kubernetes>=28.1.0->chromadb!=0.5.4,!=0.5.5,<0.6.0,>=0.4.0->langchain-chroma) (2.0.7)\n",
      "Requirement already satisfied: httpx<1,>=0.23.0 in c:\\users\\dioend\\appdata\\local\\programs\\python\\python311\\lib\\site-packages (from langsmith<0.2.0,>=0.1.125->langchain-core<0.4,>=0.1.40->langchain-chroma) (0.27.2)\n",
      "Requirement already satisfied: requests-toolbelt<2.0.0,>=1.0.0 in c:\\users\\dioend\\appdata\\local\\programs\\python\\python311\\lib\\site-packages (from langsmith<0.2.0,>=0.1.125->langchain-core<0.4,>=0.1.40->langchain-chroma) (1.0.0)\n",
      "Requirement already satisfied: coloredlogs in c:\\users\\dioend\\appdata\\local\\programs\\python\\python311\\lib\\site-packages (from onnxruntime>=1.14.1->chromadb!=0.5.4,!=0.5.5,<0.6.0,>=0.4.0->langchain-chroma) (15.0.1)\n",
      "Requirement already satisfied: flatbuffers in c:\\users\\dioend\\appdata\\local\\programs\\python\\python311\\lib\\site-packages (from onnxruntime>=1.14.1->chromadb!=0.5.4,!=0.5.5,<0.6.0,>=0.4.0->langchain-chroma) (24.3.25)\n",
      "Requirement already satisfied: protobuf in c:\\users\\dioend\\appdata\\local\\programs\\python\\python311\\lib\\site-packages (from onnxruntime>=1.14.1->chromadb!=0.5.4,!=0.5.5,<0.6.0,>=0.4.0->langchain-chroma) (4.25.4)\n",
      "Requirement already satisfied: sympy in c:\\users\\dioend\\appdata\\local\\programs\\python\\python311\\lib\\site-packages (from onnxruntime>=1.14.1->chromadb!=0.5.4,!=0.5.5,<0.6.0,>=0.4.0->langchain-chroma) (1.13.2)\n",
      "Requirement already satisfied: deprecated>=1.2.6 in c:\\users\\dioend\\appdata\\local\\programs\\python\\python311\\lib\\site-packages (from opentelemetry-api>=1.2.0->chromadb!=0.5.4,!=0.5.5,<0.6.0,>=0.4.0->langchain-chroma) (1.2.14)\n",
      "Requirement already satisfied: importlib-metadata<=8.0.0,>=6.0 in c:\\users\\dioend\\appdata\\local\\programs\\python\\python311\\lib\\site-packages (from opentelemetry-api>=1.2.0->chromadb!=0.5.4,!=0.5.5,<0.6.0,>=0.4.0->langchain-chroma) (8.0.0)\n",
      "Requirement already satisfied: googleapis-common-protos~=1.52 in c:\\users\\dioend\\appdata\\local\\programs\\python\\python311\\lib\\site-packages (from opentelemetry-exporter-otlp-proto-grpc>=1.2.0->chromadb!=0.5.4,!=0.5.5,<0.6.0,>=0.4.0->langchain-chroma) (1.63.2)\n",
      "Requirement already satisfied: opentelemetry-exporter-otlp-proto-common==1.26.0 in c:\\users\\dioend\\appdata\\local\\programs\\python\\python311\\lib\\site-packages (from opentelemetry-exporter-otlp-proto-grpc>=1.2.0->chromadb!=0.5.4,!=0.5.5,<0.6.0,>=0.4.0->langchain-chroma) (1.26.0)\n",
      "Requirement already satisfied: opentelemetry-proto==1.26.0 in c:\\users\\dioend\\appdata\\local\\programs\\python\\python311\\lib\\site-packages (from opentelemetry-exporter-otlp-proto-grpc>=1.2.0->chromadb!=0.5.4,!=0.5.5,<0.6.0,>=0.4.0->langchain-chroma) (1.26.0)\n",
      "Requirement already satisfied: opentelemetry-instrumentation-asgi==0.47b0 in c:\\users\\dioend\\appdata\\local\\programs\\python\\python311\\lib\\site-packages (from opentelemetry-instrumentation-fastapi>=0.41b0->chromadb!=0.5.4,!=0.5.5,<0.6.0,>=0.4.0->langchain-chroma) (0.47b0)\n",
      "Requirement already satisfied: opentelemetry-instrumentation==0.47b0 in c:\\users\\dioend\\appdata\\local\\programs\\python\\python311\\lib\\site-packages (from opentelemetry-instrumentation-fastapi>=0.41b0->chromadb!=0.5.4,!=0.5.5,<0.6.0,>=0.4.0->langchain-chroma) (0.47b0)\n",
      "Requirement already satisfied: opentelemetry-semantic-conventions==0.47b0 in c:\\users\\dioend\\appdata\\local\\programs\\python\\python311\\lib\\site-packages (from opentelemetry-instrumentation-fastapi>=0.41b0->chromadb!=0.5.4,!=0.5.5,<0.6.0,>=0.4.0->langchain-chroma) (0.47b0)\n",
      "Requirement already satisfied: opentelemetry-util-http==0.47b0 in c:\\users\\dioend\\appdata\\local\\programs\\python\\python311\\lib\\site-packages (from opentelemetry-instrumentation-fastapi>=0.41b0->chromadb!=0.5.4,!=0.5.5,<0.6.0,>=0.4.0->langchain-chroma) (0.47b0)\n",
      "Requirement already satisfied: setuptools>=16.0 in c:\\users\\dioend\\appdata\\local\\programs\\python\\python311\\lib\\site-packages (from opentelemetry-instrumentation==0.47b0->opentelemetry-instrumentation-fastapi>=0.41b0->chromadb!=0.5.4,!=0.5.5,<0.6.0,>=0.4.0->langchain-chroma) (65.5.0)\n",
      "Requirement already satisfied: wrapt<2.0.0,>=1.0.0 in c:\\users\\dioend\\appdata\\local\\programs\\python\\python311\\lib\\site-packages (from opentelemetry-instrumentation==0.47b0->opentelemetry-instrumentation-fastapi>=0.41b0->chromadb!=0.5.4,!=0.5.5,<0.6.0,>=0.4.0->langchain-chroma) (1.16.0)\n",
      "Requirement already satisfied: asgiref~=3.0 in c:\\users\\dioend\\appdata\\local\\programs\\python\\python311\\lib\\site-packages (from opentelemetry-instrumentation-asgi==0.47b0->opentelemetry-instrumentation-fastapi>=0.41b0->chromadb!=0.5.4,!=0.5.5,<0.6.0,>=0.4.0->langchain-chroma) (3.8.1)\n",
      "Requirement already satisfied: monotonic>=1.5 in c:\\users\\dioend\\appdata\\local\\programs\\python\\python311\\lib\\site-packages (from posthog>=2.4.0->chromadb!=0.5.4,!=0.5.5,<0.6.0,>=0.4.0->langchain-chroma) (1.6)\n",
      "Requirement already satisfied: backoff>=1.10.0 in c:\\users\\dioend\\appdata\\local\\programs\\python\\python311\\lib\\site-packages (from posthog>=2.4.0->chromadb!=0.5.4,!=0.5.5,<0.6.0,>=0.4.0->langchain-chroma) (2.2.1)\n",
      "Requirement already satisfied: annotated-types>=0.4.0 in c:\\users\\dioend\\appdata\\local\\programs\\python\\python311\\lib\\site-packages (from pydantic>=1.9->chromadb!=0.5.4,!=0.5.5,<0.6.0,>=0.4.0->langchain-chroma) (0.7.0)\n",
      "Requirement already satisfied: pydantic-core==2.20.1 in c:\\users\\dioend\\appdata\\local\\programs\\python\\python311\\lib\\site-packages (from pydantic>=1.9->chromadb!=0.5.4,!=0.5.5,<0.6.0,>=0.4.0->langchain-chroma) (2.20.1)\n",
      "Requirement already satisfied: charset-normalizer<4,>=2 in c:\\users\\dioend\\appdata\\local\\programs\\python\\python311\\lib\\site-packages (from requests>=2.28->chromadb!=0.5.4,!=0.5.5,<0.6.0,>=0.4.0->langchain-chroma) (3.3.2)\n",
      "Requirement already satisfied: idna<4,>=2.5 in c:\\users\\dioend\\appdata\\local\\programs\\python\\python311\\lib\\site-packages (from requests>=2.28->chromadb!=0.5.4,!=0.5.5,<0.6.0,>=0.4.0->langchain-chroma) (3.6)\n",
      "Requirement already satisfied: anyio<5,>=3.4.0 in c:\\users\\dioend\\appdata\\local\\programs\\python\\python311\\lib\\site-packages (from starlette<0.39.0,>=0.37.2->fastapi<1,>=0.95.2->langchain-chroma) (4.2.0)\n",
      "Requirement already satisfied: huggingface-hub<1.0,>=0.16.4 in c:\\users\\dioend\\appdata\\local\\programs\\python\\python311\\lib\\site-packages (from tokenizers>=0.13.2->chromadb!=0.5.4,!=0.5.5,<0.6.0,>=0.4.0->langchain-chroma) (0.24.6)\n",
      "Requirement already satisfied: click<9.0.0,>=7.1.1 in c:\\users\\dioend\\appdata\\local\\programs\\python\\python311\\lib\\site-packages (from typer>=0.9.0->chromadb!=0.5.4,!=0.5.5,<0.6.0,>=0.4.0->langchain-chroma) (8.1.7)\n",
      "Requirement already satisfied: h11>=0.8 in c:\\users\\dioend\\appdata\\local\\programs\\python\\python311\\lib\\site-packages (from uvicorn>=0.18.3->uvicorn[standard]>=0.18.3->chromadb!=0.5.4,!=0.5.5,<0.6.0,>=0.4.0->langchain-chroma) (0.14.0)\n",
      "Requirement already satisfied: httptools>=0.5.0 in c:\\users\\dioend\\appdata\\local\\programs\\python\\python311\\lib\\site-packages (from uvicorn[standard]>=0.18.3->chromadb!=0.5.4,!=0.5.5,<0.6.0,>=0.4.0->langchain-chroma) (0.6.1)\n",
      "Requirement already satisfied: python-dotenv>=0.13 in c:\\users\\dioend\\appdata\\local\\programs\\python\\python311\\lib\\site-packages (from uvicorn[standard]>=0.18.3->chromadb!=0.5.4,!=0.5.5,<0.6.0,>=0.4.0->langchain-chroma) (1.0.0)\n",
      "Requirement already satisfied: watchfiles>=0.13 in c:\\users\\dioend\\appdata\\local\\programs\\python\\python311\\lib\\site-packages (from uvicorn[standard]>=0.18.3->chromadb!=0.5.4,!=0.5.5,<0.6.0,>=0.4.0->langchain-chroma) (0.23.0)\n",
      "Requirement already satisfied: websockets>=10.4 in c:\\users\\dioend\\appdata\\local\\programs\\python\\python311\\lib\\site-packages (from uvicorn[standard]>=0.18.3->chromadb!=0.5.4,!=0.5.5,<0.6.0,>=0.4.0->langchain-chroma) (13.1)\n",
      "Requirement already satisfied: sniffio>=1.1 in c:\\users\\dioend\\appdata\\local\\programs\\python\\python311\\lib\\site-packages (from anyio<5,>=3.4.0->starlette<0.39.0,>=0.37.2->fastapi<1,>=0.95.2->langchain-chroma) (1.3.0)\n",
      "Requirement already satisfied: cachetools<6.0,>=2.0.0 in c:\\users\\dioend\\appdata\\local\\programs\\python\\python311\\lib\\site-packages (from google-auth>=1.0.1->kubernetes>=28.1.0->chromadb!=0.5.4,!=0.5.5,<0.6.0,>=0.4.0->langchain-chroma) (5.5.0)\n",
      "Requirement already satisfied: pyasn1-modules>=0.2.1 in c:\\users\\dioend\\appdata\\local\\programs\\python\\python311\\lib\\site-packages (from google-auth>=1.0.1->kubernetes>=28.1.0->chromadb!=0.5.4,!=0.5.5,<0.6.0,>=0.4.0->langchain-chroma) (0.4.0)\n",
      "Requirement already satisfied: rsa<5,>=3.1.4 in c:\\users\\dioend\\appdata\\local\\programs\\python\\python311\\lib\\site-packages (from google-auth>=1.0.1->kubernetes>=28.1.0->chromadb!=0.5.4,!=0.5.5,<0.6.0,>=0.4.0->langchain-chroma) (4.9)\n",
      "Requirement already satisfied: httpcore==1.* in c:\\users\\dioend\\appdata\\local\\programs\\python\\python311\\lib\\site-packages (from httpx<1,>=0.23.0->langsmith<0.2.0,>=0.1.125->langchain-core<0.4,>=0.1.40->langchain-chroma) (1.0.6)\n",
      "Requirement already satisfied: filelock in c:\\users\\dioend\\appdata\\local\\programs\\python\\python311\\lib\\site-packages (from huggingface-hub<1.0,>=0.16.4->tokenizers>=0.13.2->chromadb!=0.5.4,!=0.5.5,<0.6.0,>=0.4.0->langchain-chroma) (3.13.1)\n",
      "Requirement already satisfied: fsspec>=2023.5.0 in c:\\users\\dioend\\appdata\\local\\programs\\python\\python311\\lib\\site-packages (from huggingface-hub<1.0,>=0.16.4->tokenizers>=0.13.2->chromadb!=0.5.4,!=0.5.5,<0.6.0,>=0.4.0->langchain-chroma) (2024.6.1)\n",
      "Requirement already satisfied: zipp>=0.5 in c:\\users\\dioend\\appdata\\local\\programs\\python\\python311\\lib\\site-packages (from importlib-metadata<=8.0.0,>=6.0->opentelemetry-api>=1.2.0->chromadb!=0.5.4,!=0.5.5,<0.6.0,>=0.4.0->langchain-chroma) (3.20.0)\n",
      "Requirement already satisfied: humanfriendly>=9.1 in c:\\users\\dioend\\appdata\\local\\programs\\python\\python311\\lib\\site-packages (from coloredlogs->onnxruntime>=1.14.1->chromadb!=0.5.4,!=0.5.5,<0.6.0,>=0.4.0->langchain-chroma) (10.0)\n",
      "Requirement already satisfied: mpmath<1.4,>=1.1.0 in c:\\users\\dioend\\appdata\\local\\programs\\python\\python311\\lib\\site-packages (from sympy->onnxruntime>=1.14.1->chromadb!=0.5.4,!=0.5.5,<0.6.0,>=0.4.0->langchain-chroma) (1.3.0)\n",
      "Requirement already satisfied: pyreadline3 in c:\\users\\dioend\\appdata\\local\\programs\\python\\python311\\lib\\site-packages (from humanfriendly>=9.1->coloredlogs->onnxruntime>=1.14.1->chromadb!=0.5.4,!=0.5.5,<0.6.0,>=0.4.0->langchain-chroma) (3.4.1)\n",
      "Requirement already satisfied: pyasn1<0.7.0,>=0.4.6 in c:\\users\\dioend\\appdata\\local\\programs\\python\\python311\\lib\\site-packages (from pyasn1-modules>=0.2.1->google-auth>=1.0.1->kubernetes>=28.1.0->chromadb!=0.5.4,!=0.5.5,<0.6.0,>=0.4.0->langchain-chroma) (0.6.0)\n",
      "Requirement already satisfied: langchain-text-splitters in c:\\users\\dioend\\appdata\\local\\programs\\python\\python311\\lib\\site-packages (0.3.1)\n",
      "Requirement already satisfied: langchain-core<0.4.0,>=0.3.13 in c:\\users\\dioend\\appdata\\local\\programs\\python\\python311\\lib\\site-packages (from langchain-text-splitters) (0.3.14)\n",
      "Requirement already satisfied: PyYAML>=5.3 in c:\\users\\dioend\\appdata\\local\\programs\\python\\python311\\lib\\site-packages (from langchain-core<0.4.0,>=0.3.13->langchain-text-splitters) (6.0.1)\n",
      "Requirement already satisfied: jsonpatch<2.0,>=1.33 in c:\\users\\dioend\\appdata\\local\\programs\\python\\python311\\lib\\site-packages (from langchain-core<0.4.0,>=0.3.13->langchain-text-splitters) (1.33)\n",
      "Requirement already satisfied: langsmith<0.2.0,>=0.1.125 in c:\\users\\dioend\\appdata\\local\\programs\\python\\python311\\lib\\site-packages (from langchain-core<0.4.0,>=0.3.13->langchain-text-splitters) (0.1.137)\n",
      "Requirement already satisfied: packaging<25,>=23.2 in c:\\users\\dioend\\appdata\\local\\programs\\python\\python311\\lib\\site-packages (from langchain-core<0.4.0,>=0.3.13->langchain-text-splitters) (23.2)\n",
      "Requirement already satisfied: pydantic<3.0.0,>=2.5.2 in c:\\users\\dioend\\appdata\\local\\programs\\python\\python311\\lib\\site-packages (from langchain-core<0.4.0,>=0.3.13->langchain-text-splitters) (2.8.2)\n",
      "Requirement already satisfied: tenacity!=8.4.0,<10.0.0,>=8.1.0 in c:\\users\\dioend\\appdata\\local\\programs\\python\\python311\\lib\\site-packages (from langchain-core<0.4.0,>=0.3.13->langchain-text-splitters) (9.0.0)\n",
      "Requirement already satisfied: typing-extensions>=4.7 in c:\\users\\dioend\\appdata\\roaming\\python\\python311\\site-packages (from langchain-core<0.4.0,>=0.3.13->langchain-text-splitters) (4.12.2)\n",
      "Requirement already satisfied: jsonpointer>=1.9 in c:\\users\\dioend\\appdata\\local\\programs\\python\\python311\\lib\\site-packages (from jsonpatch<2.0,>=1.33->langchain-core<0.4.0,>=0.3.13->langchain-text-splitters) (3.0.0)\n",
      "Requirement already satisfied: httpx<1,>=0.23.0 in c:\\users\\dioend\\appdata\\local\\programs\\python\\python311\\lib\\site-packages (from langsmith<0.2.0,>=0.1.125->langchain-core<0.4.0,>=0.3.13->langchain-text-splitters) (0.27.2)\n",
      "Requirement already satisfied: orjson<4.0.0,>=3.9.14 in c:\\users\\dioend\\appdata\\local\\programs\\python\\python311\\lib\\site-packages (from langsmith<0.2.0,>=0.1.125->langchain-core<0.4.0,>=0.3.13->langchain-text-splitters) (3.10.7)\n",
      "Requirement already satisfied: requests<3,>=2 in c:\\users\\dioend\\appdata\\local\\programs\\python\\python311\\lib\\site-packages (from langsmith<0.2.0,>=0.1.125->langchain-core<0.4.0,>=0.3.13->langchain-text-splitters) (2.32.3)\n",
      "Requirement already satisfied: requests-toolbelt<2.0.0,>=1.0.0 in c:\\users\\dioend\\appdata\\local\\programs\\python\\python311\\lib\\site-packages (from langsmith<0.2.0,>=0.1.125->langchain-core<0.4.0,>=0.3.13->langchain-text-splitters) (1.0.0)\n",
      "Requirement already satisfied: annotated-types>=0.4.0 in c:\\users\\dioend\\appdata\\local\\programs\\python\\python311\\lib\\site-packages (from pydantic<3.0.0,>=2.5.2->langchain-core<0.4.0,>=0.3.13->langchain-text-splitters) (0.7.0)\n",
      "Requirement already satisfied: pydantic-core==2.20.1 in c:\\users\\dioend\\appdata\\local\\programs\\python\\python311\\lib\\site-packages (from pydantic<3.0.0,>=2.5.2->langchain-core<0.4.0,>=0.3.13->langchain-text-splitters) (2.20.1)\n",
      "Requirement already satisfied: anyio in c:\\users\\dioend\\appdata\\local\\programs\\python\\python311\\lib\\site-packages (from httpx<1,>=0.23.0->langsmith<0.2.0,>=0.1.125->langchain-core<0.4.0,>=0.3.13->langchain-text-splitters) (4.2.0)\n",
      "Requirement already satisfied: certifi in c:\\users\\dioend\\appdata\\local\\programs\\python\\python311\\lib\\site-packages (from httpx<1,>=0.23.0->langsmith<0.2.0,>=0.1.125->langchain-core<0.4.0,>=0.3.13->langchain-text-splitters) (2023.11.17)\n",
      "Requirement already satisfied: httpcore==1.* in c:\\users\\dioend\\appdata\\local\\programs\\python\\python311\\lib\\site-packages (from httpx<1,>=0.23.0->langsmith<0.2.0,>=0.1.125->langchain-core<0.4.0,>=0.3.13->langchain-text-splitters) (1.0.6)\n",
      "Requirement already satisfied: idna in c:\\users\\dioend\\appdata\\local\\programs\\python\\python311\\lib\\site-packages (from httpx<1,>=0.23.0->langsmith<0.2.0,>=0.1.125->langchain-core<0.4.0,>=0.3.13->langchain-text-splitters) (3.6)\n",
      "Requirement already satisfied: sniffio in c:\\users\\dioend\\appdata\\local\\programs\\python\\python311\\lib\\site-packages (from httpx<1,>=0.23.0->langsmith<0.2.0,>=0.1.125->langchain-core<0.4.0,>=0.3.13->langchain-text-splitters) (1.3.0)\n",
      "Requirement already satisfied: h11<0.15,>=0.13 in c:\\users\\dioend\\appdata\\local\\programs\\python\\python311\\lib\\site-packages (from httpcore==1.*->httpx<1,>=0.23.0->langsmith<0.2.0,>=0.1.125->langchain-core<0.4.0,>=0.3.13->langchain-text-splitters) (0.14.0)\n",
      "Requirement already satisfied: charset-normalizer<4,>=2 in c:\\users\\dioend\\appdata\\local\\programs\\python\\python311\\lib\\site-packages (from requests<3,>=2->langsmith<0.2.0,>=0.1.125->langchain-core<0.4.0,>=0.3.13->langchain-text-splitters) (3.3.2)\n",
      "Requirement already satisfied: urllib3<3,>=1.21.1 in c:\\users\\dioend\\appdata\\local\\programs\\python\\python311\\lib\\site-packages (from requests<3,>=2->langsmith<0.2.0,>=0.1.125->langchain-core<0.4.0,>=0.3.13->langchain-text-splitters) (2.0.7)\n",
      "Collecting python-git\n",
      "  Downloading python_git-2018.2.1-py3-none-any.whl.metadata (5.8 kB)\n",
      "Collecting send2trash (from python-git)\n",
      "  Downloading Send2Trash-1.8.3-py3-none-any.whl.metadata (4.0 kB)\n",
      "Downloading python_git-2018.2.1-py3-none-any.whl (10 kB)\n",
      "Downloading Send2Trash-1.8.3-py3-none-any.whl (18 kB)\n",
      "Installing collected packages: send2trash, python-git\n",
      "Successfully installed python-git-2018.2.1 send2trash-1.8.3\n"
     ]
    }
   ],
   "source": [
    "!pip install langchain\n",
    "!pip install langchain-community\n",
    "!pip install langchain-chroma\n",
    "!pip install langchain-text-splitters\n",
    "!pip install python-git\n",
    "# !pip install -U langchain langchain-community"
   ]
  },
  {
   "cell_type": "code",
   "execution_count": null,
   "metadata": {},
   "outputs": [],
   "source": [
    "from langchain_community.document_loaders.generic import GenericLoader\n",
    "from langchain_community.document_loaders.parsers import LanguageParser\n",
    "from langchain_text_splitters import Language, RecursiveCharacterTextSplitter\n",
    "from langchain_chroma import Chroma\n",
    "from langchain_openai import OpenAIEmbeddings, ChatOpenAI\n",
    "from langchain.chains.question_answering import load_qa_chain\n",
    "from langchain_core.prompts import ChatPromptTemplate\n",
    "import os\n",
    "from git import Repo"
   ]
  },
  {
   "cell_type": "code",
   "execution_count": 9,
   "metadata": {},
   "outputs": [],
   "source": [
    "#https://python.langchain.com/api_reference/langchain/chains/langchain.chains.retrieval.create_retrieval_chain.html\n",
    "# from langchain_community.chat_models import ChatOpenAI\n",
    "from langchain.chains.combine_documents import create_stuff_documents_chain\n",
    "from langchain.chains import create_retrieval_chain\n",
    "from langchain import hub"
   ]
  },
  {
   "cell_type": "code",
   "execution_count": null,
   "metadata": {},
   "outputs": [],
   "source": [
    "os.environ['OPENAI_API_KEY'] = \"\""
   ]
  },
  {
   "cell_type": "code",
   "execution_count": 10,
   "metadata": {},
   "outputs": [],
   "source": [
    "repo_path = \"./dir_repo\""
   ]
  },
  {
   "cell_type": "code",
   "execution_count": 11,
   "metadata": {},
   "outputs": [],
   "source": [
    "repo = Repo.clone_from(\"https://github.com/langchain-ai/langchain\", to_path=repo_path)"
   ]
  },
  {
   "cell_type": "code",
   "execution_count": 14,
   "metadata": {},
   "outputs": [],
   "source": [
    "loader = GenericLoader.from_filesystem(\n",
    "    repo_path + r\"\\\\libs\\\\core\\\\langchain_core\",\n",
    "    glob=\"**/*\",\n",
    "    suffixes=[\".py\"],\n",
    "    exclude=[\"**/non-utf-8-encoding.py\"],\n",
    "    parser=LanguageParser(language=Language.PYTHON, parser_threshold=500),\n",
    ")"
   ]
  },
  {
   "cell_type": "code",
   "execution_count": 15,
   "metadata": {},
   "outputs": [],
   "source": [
    "documents = loader.load()"
   ]
  },
  {
   "cell_type": "code",
   "execution_count": 16,
   "metadata": {},
   "outputs": [
    {
     "data": {
      "text/plain": [
       "470"
      ]
     },
     "execution_count": 16,
     "metadata": {},
     "output_type": "execute_result"
    }
   ],
   "source": [
    "len(documents)"
   ]
  },
  {
   "cell_type": "markdown",
   "metadata": {},
   "source": [
    "### Separando em chunks"
   ]
  },
  {
   "cell_type": "code",
   "execution_count": 19,
   "metadata": {},
   "outputs": [],
   "source": [
    "python_splitter = RecursiveCharacterTextSplitter.from_language(\n",
    "    language=Language.PYTHON, chunk_size=1000, chunk_overlap=200\n",
    ")"
   ]
  },
  {
   "cell_type": "code",
   "execution_count": 20,
   "metadata": {},
   "outputs": [],
   "source": [
    "texts = python_splitter.split_documents(documents)"
   ]
  },
  {
   "cell_type": "code",
   "execution_count": 21,
   "metadata": {},
   "outputs": [
    {
     "data": {
      "text/plain": [
       "2683"
      ]
     },
     "execution_count": 21,
     "metadata": {},
     "output_type": "execute_result"
    }
   ],
   "source": [
    "len(texts)"
   ]
  },
  {
   "cell_type": "markdown",
   "metadata": {},
   "source": [
    "### Fazendo o embedding e salvando no banco de vetores"
   ]
  },
  {
   "cell_type": "code",
   "execution_count": 24,
   "metadata": {},
   "outputs": [],
   "source": [
    "db = Chroma.from_documents(texts, OpenAIEmbeddings(disallowed_special=()))"
   ]
  },
  {
   "cell_type": "code",
   "execution_count": 25,
   "metadata": {},
   "outputs": [],
   "source": [
    "retriver = db.as_retriever(\n",
    "    search_type=\"mmr\",\n",
    "    search_kwargs={\"k\": 8},\n",
    ")"
   ]
  },
  {
   "cell_type": "markdown",
   "metadata": {},
   "source": [
    "- LLM"
   ]
  },
  {
   "cell_type": "code",
   "execution_count": 29,
   "metadata": {},
   "outputs": [],
   "source": [
    "llm = ChatOpenAI(model=\"gpt-3.5-turbo\", temperature=0)"
   ]
  },
  {
   "cell_type": "code",
   "execution_count": 30,
   "metadata": {},
   "outputs": [],
   "source": [
    "prompt = ChatPromptTemplate.from_messages(\n",
    "    [\n",
    "        (\n",
    "            \"system\", \"Você é um revisor de código experitente. Forneça informações detalhadas sobre a revisão do código e sugestões de melhorias baseado no contexto fornecido abaixo: \\n\\n {context} \"\n",
    "        ),\n",
    "        (  \"user\",  \"{input}\")\n",
    "    ]\n",
    ")"
   ]
  },
  {
   "cell_type": "code",
   "execution_count": 31,
   "metadata": {},
   "outputs": [],
   "source": [
    "document_chain = create_stuff_documents_chain(llm, prompt)"
   ]
  },
  {
   "cell_type": "code",
   "execution_count": 33,
   "metadata": {},
   "outputs": [],
   "source": [
    "retrieval_chain = create_retrieval_chain(\n",
    "    retriver,\n",
    "    document_chain,\n",
    ")"
   ]
  },
  {
   "cell_type": "code",
   "execution_count": 36,
   "metadata": {},
   "outputs": [],
   "source": [
    "response = retrieval_chain.invoke({\"input\": \"Você pode revisar e sugerir melhorias para o código de RunnableBinding\"})"
   ]
  },
  {
   "cell_type": "code",
   "execution_count": 37,
   "metadata": {},
   "outputs": [
    {
     "name": "stdout",
     "output_type": "stream",
     "text": [
      "{'input': 'Você pode revisar e sugerir melhorias para o código de RunnableBinding', 'context': [Document(metadata={'content_type': 'functions_classes', 'language': 'python', 'source': 'dir_repo\\\\libs\\\\core\\\\langchain_core\\\\runnables\\\\base.py'}, page_content='class RunnableBinding(RunnableBindingBase[Input, Output]):\\n    \"\"\"Wrap a Runnable with additional functionality.\\n\\n    A RunnableBinding can be thought of as a \"runnable decorator\" that\\n    preserves the essential features of Runnable; i.e., batching, streaming,\\n    and async support, while adding additional functionality.\\n\\n    Any class that inherits from Runnable can be bound to a `RunnableBinding`.\\n    Runnables expose a standard set of methods for creating `RunnableBindings`\\n    or sub-classes of `RunnableBindings` (e.g., `RunnableRetry`,\\n    `RunnableWithFallbacks`) that add additional functionality.\\n\\n    These methods include:'), Document(metadata={'language': 'python', 'source': 'dir_repo\\\\libs\\\\core\\\\langchain_core\\\\runnables\\\\learnable.py'}, page_content='# from langchain_core.runnables.base import RunnableBinding\\n\\n\\n# class RunnableLearnable(RunnableBinding):\\n#     def __init__(self, *args, **kwargs):\\n#         super().__init__(*args, **kwargs)\\n#         self.parameters = []\\n\\n#     def backward(self):\\n#         for param in self.parameters:\\n#             param.backward()\\n\\n#     def update(self, optimizer):\\n#         for param in self.parameters:\\n#             optimizer.update(param)'), Document(metadata={'content_type': 'functions_classes', 'language': 'python', 'source': 'dir_repo\\\\libs\\\\core\\\\langchain_core\\\\language_models\\\\chat_models.py'}, page_content='This table provides a brief overview of the main imperative methods. Please see the base Runnable reference for full documentation.\\n\\n    Key declarative methods:\\n        Methods for creating another Runnable using the ChatModel.'), Document(metadata={'content_type': 'functions_classes', 'language': 'python', 'source': 'dir_repo\\\\libs\\\\core\\\\langchain_core\\\\runnables\\\\base.py'}, page_content=\"Standard Methods\\n    ================\\n\\n    All Runnables expose additional methods that can be used to modify their behavior\\n    (e.g., add a retry policy, add lifecycle listeners, make them configurable, etc.).\\n\\n    These methods will work on any Runnable, including Runnable chains constructed\\n    by composing other Runnables. See the individual methods for details.\\n\\n    For example,\\n\\n    .. code-block:: python\\n\\n        from langchain_core.runnables import RunnableLambda\\n\\n        import random\\n\\n        def add_one(x: int) -> int:\\n            return x + 1\\n\\n\\n        def buggy_double(y: int) -> int:\\n            '''Buggy code that will fail 70% of the time'''\\n            if random.random() > 0.3:\\n                print('This code failed, and will probably be retried!')  # noqa: T201\\n                raise ValueError('Triggered buggy code')\\n            return y * 2\"), Document(metadata={'content_type': 'simplified_code', 'language': 'python', 'source': 'dir_repo\\\\libs\\\\core\\\\langchain_core\\\\runnables\\\\configurable.py'}, page_content='# Code for: class DynamicRunnable(RunnableSerializable[Input, Output]):\\n\\n\\n# Code for: class RunnableConfigurableFields(DynamicRunnable[Input, Output]):\\n\\n\\nRunnableConfigurableFields.model_rebuild()\\n\\n\\n# Before Python 3.11 native StrEnum is not available\\n# Code for: class StrEnum(str, enum.Enum):\\n\\n\\n_enums_for_spec: WeakValueDictionary[\\n    Union[\\n        ConfigurableFieldSingleOption, ConfigurableFieldMultiOption, ConfigurableField\\n    ],\\n    type[StrEnum],\\n] = WeakValueDictionary()\\n\\n_enums_for_spec_lock = threading.Lock()\\n\\n\\n# Code for: class RunnableConfigurableAlternatives(DynamicRunnable[Input, Output]):\\n\\n\\n# Code for: def _strremoveprefix(s: str, prefix: str) -> str:\\n\\n\\n# Code for: def prefix_config_spec(\\n\\n\\n# Code for: def make_options_spec('), Document(metadata={'content_type': 'functions_classes', 'language': 'python', 'source': 'dir_repo\\\\libs\\\\core\\\\langchain_core\\\\runnables\\\\fallbacks.py'}, page_content='def _is_runnable_type(type_: Any) -> bool:\\n    if inspect.isclass(type_):\\n        return issubclass(type_, Runnable)\\n    origin = getattr(type_, \"__origin__\", None)\\n    if inspect.isclass(origin):\\n        return issubclass(origin, Runnable)\\n    elif origin is typing.Union:\\n        return all(_is_runnable_type(t) for t in type_.__args__)\\n    else:\\n        return False'), Document(metadata={'content_type': 'functions_classes', 'language': 'python', 'source': 'dir_repo\\\\libs\\\\core\\\\langchain_core\\\\runnables\\\\base.py'}, page_content='Example:\\n\\n        .. code-block:: python\\n\\n            from langchain_core.runnables import RunnableLambda\\n\\n            async def reverse(s: str) -> str:\\n                return s[::-1]\\n\\n            chain = RunnableLambda(func=reverse)\\n\\n            events = [\\n                event async for event in chain.astream_events(\"hello\", version=\"v2\")\\n            ]'), Document(metadata={'language': 'python', 'source': 'dir_repo\\\\libs\\\\core\\\\langchain_core\\\\tools\\\\simple.py'}, page_content='Tool.model_rebuild()')], 'answer': '### Revisão do Código:\\n\\n1. A classe `RunnableBinding` parece estar bem estruturada e documentada, o que é um bom sinal.\\n2. A documentação fornece uma boa visão geral do propósito da classe e como ela se relaciona com outras classes no sistema.\\n3. A classe parece estar focada em adicionar funcionalidades adicionais a um `Runnable` existente, mantendo suas características essenciais.\\n\\n### Sugestões de Melhoria:\\n\\n1. **Implementação de Métodos Abstratos:** A classe `RunnableBinding` parece ser uma classe base genérica. Seria útil adicionar métodos abstratos ou pelo menos métodos de exemplo para mostrar como a classe deve ser estendida e implementada.\\n   \\n2. **Exemplos de Uso:** Adicionar exemplos de uso da classe `RunnableBinding` pode ajudar os desenvolvedores a entender melhor como ela deve ser utilizada na prática.\\n\\n3. **Remoção de Códigos Comentados:** Há trechos de código comentados que não parecem ser necessários. Recomenda-se remover esses trechos para manter o código limpo e mais fácil de ler.\\n\\n4. **Padronização de Comentários:** Alguns comentários estão em um formato diferente, como `# Code for:`. Recomenda-se manter um padrão consistente para todos os comentários.\\n\\n5. **Verificação de Tipos:** O código poderia se beneficiar de uma verificação de tipos mais robusta, especialmente em métodos como `_is_runnable_type`. Considerar o uso de ferramentas como `mypy` para garantir a consistência dos tipos.\\n\\n6. **Melhorar a Documentação:** Embora a documentação existente seja boa, sempre há espaço para melhorias. Certifique-se de cobrir todos os aspectos importantes da classe, como parâmetros, retornos e possíveis exceções.\\n\\n7. **Testes Unitários:** Implementar testes unitários para garantir o bom funcionamento da classe e suas funcionalidades adicionais.\\n\\nEssas são algumas sugestões gerais com base na revisão do código fornecido. Certifique-se de adaptar as melhorias de acordo com as necessidades e padrões do projeto em questão.'}\n"
     ]
    }
   ],
   "source": [
    "print(response)"
   ]
  },
  {
   "cell_type": "code",
   "execution_count": 40,
   "metadata": {},
   "outputs": [
    {
     "name": "stdout",
     "output_type": "stream",
     "text": [
      "### Revisão do Código:\n",
      "\n",
      "1. A classe `RunnableBinding` parece estar bem estruturada e documentada, o que é um bom sinal.\n",
      "2. A documentação fornece uma boa visão geral do propósito da classe e como ela se relaciona com outras classes no sistema.\n",
      "3. A classe parece estar focada em adicionar funcionalidades adicionais a um `Runnable` existente, mantendo suas características essenciais.\n",
      "\n",
      "### Sugestões de Melhoria:\n",
      "\n",
      "1. **Implementação de Métodos Abstratos:** A classe `RunnableBinding` parece ser uma classe base genérica. Seria útil adicionar métodos abstratos ou pelo menos métodos de exemplo para mostrar como a classe deve ser estendida e implementada.\n",
      "   \n",
      "2. **Exemplos de Uso:** Adicionar exemplos de uso da classe `RunnableBinding` pode ajudar os desenvolvedores a entender melhor como ela deve ser utilizada na prática.\n",
      "\n",
      "3. **Remoção de Códigos Comentados:** Há trechos de código comentados que não parecem ser necessários. Recomenda-se remover esses trechos para manter o código limpo e mais fácil de ler.\n",
      "\n",
      "4. **Padronização de Comentários:** Alguns comentários estão em um formato diferente, como `# Code for:`. Recomenda-se manter um padrão consistente para todos os comentários.\n",
      "\n",
      "5. **Verificação de Tipos:** O código poderia se beneficiar de uma verificação de tipos mais robusta, especialmente em métodos como `_is_runnable_type`. Considerar o uso de ferramentas como `mypy` para garantir a consistência dos tipos.\n",
      "\n",
      "6. **Melhorar a Documentação:** Embora a documentação existente seja boa, sempre há espaço para melhorias. Certifique-se de cobrir todos os aspectos importantes da classe, como parâmetros, retornos e possíveis exceções.\n",
      "\n",
      "7. **Testes Unitários:** Implementar testes unitários para garantir o bom funcionamento da classe e suas funcionalidades adicionais.\n",
      "\n",
      "Essas são algumas sugestões gerais com base na revisão do código fornecido. Certifique-se de adaptar as melhorias de acordo com as necessidades e padrões do projeto em questão.\n"
     ]
    }
   ],
   "source": [
    "print(response[\"answer\"])"
   ]
  }
 ],
 "metadata": {
  "kernelspec": {
   "display_name": "Python 3",
   "language": "python",
   "name": "python3"
  },
  "language_info": {
   "codemirror_mode": {
    "name": "ipython",
    "version": 3
   },
   "file_extension": ".py",
   "mimetype": "text/x-python",
   "name": "python",
   "nbconvert_exporter": "python",
   "pygments_lexer": "ipython3",
   "version": "3.11.4"
  }
 },
 "nbformat": 4,
 "nbformat_minor": 2
}
